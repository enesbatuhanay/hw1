#Exercise 1.1: The interpreter

#there are no output for that

#Exercise 1.2: Scripts

#if ı use print function outputs it

#Exercise 1.3: More interpreter

#a,b,c,d,e gives syntax eror other do nothing

#Exercise 1.4: Booleans

#if == are true answer ıs true it is normal logic.


#a,b,d,e true c false f is 0 g is false h false

#Exercise 1.5: Integers

#there is no big logic here all of the answers are match asnwers.

#Exercise 1.6: Floats

#a is out of range 
#b is float
#c is 0

#Exercise 1.7: Variables

Enes= "Hello, World!"
print(Enes)

#Exercise 1.8: Type casting

#a is gives 128
#b gives syntax error
#c gives error
#d gives 123
#e syn error
#f error
#g gives 12
#h fine too
#i syn error
#bool(0) is false because 0 is false in computer
#k is true

#Exercise 2.2: For loops

x = range(100)
#a
for n in x:
  print(n)

#b 
for i in range(0, 101):
    if i % 7 == 0 or '7' in str(i):
        print i

a = 1
#c
while a <= 100:

    if a%3 == 0 or a%5 ==0:
        a = a+1
    else:
        print(a)
        a = a+1
#d

#Exercise 2.3: Simple while loops

#a
i = 1
while i < 100:
  if i % 7 == 0 or '7' in str(i):
          print(i)
  i += 1

#Exercise 2.4: Hangman update 1

#Exercise 2.5: While loops


a#
int counter = 0; // counter variable
for(int i=1; ; i++) // removed condition 
{
       if (counter > 20) break; // time to stop the iteration
       if(i%5==0 && i%7==0 && i%11==0  )
       {
            counter++;
            Console.WriteLine(i);
       }
}

#Exercise 2.6: More while loops
